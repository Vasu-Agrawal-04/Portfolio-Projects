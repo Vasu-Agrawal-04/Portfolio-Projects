{
 "cells": [
  {
   "cell_type": "code",
   "execution_count": 17,
   "id": "9d6baa80-8df4-41c2-b67b-5ba71a979f03",
   "metadata": {},
   "outputs": [],
   "source": [
    "import pandas as pd\n",
    "import os\n",
    "from sqlalchemy import create_engine"
   ]
  },
  {
   "cell_type": "code",
   "execution_count": 20,
   "id": "69c41212-f480-43c6-988b-2291b9eab97b",
   "metadata": {},
   "outputs": [
    {
     "name": "stdout",
     "output_type": "stream",
     "text": [
      "Found 6 CSV files:\n",
      "- begin_inventory.csv\n",
      "- end_inventory.csv\n",
      "- purchases.csv\n",
      "- purchase_prices.csv\n",
      "- sales.csv\n",
      "- vendor_invoice.csv\n",
      "\n",
      "Transferring files to database...\n"
     ]
    }
   ],
   "source": [
    "# Get list of CSV files\n",
    "data_directory = 'C:\\\\Users\\\\vasua\\\\OneDrive\\\\Desktop\\\\DATA ANALYTICS\\\\PROJECTS - DATA ANALYTICS\\PROJECT - VENDOR ANALYSIS\\\\Prerequisites & Data\\\\data'\n",
    "csv_files = [f for f in os.listdir(data_directory) if f.endswith('.csv')]\n",
    "\n",
    "print(f\"Found {len(csv_files)} CSV files:\")\n",
    "for file in csv_files:\n",
    "    print(f\"- {file}\")\n",
    "\n",
    "print(\"\\nTransferring files to database...\")"
   ]
  },
  {
   "cell_type": "code",
   "execution_count": 21,
   "id": "5ba22161-3980-4734-bd34-a88438ab7f14",
   "metadata": {},
   "outputs": [
    {
     "name": "stdout",
     "output_type": "stream",
     "text": [
      "✓ Successfully transferred begin_inventory.csv to table 'begin_inventory' (206529 rows)\n",
      "✓ Successfully transferred end_inventory.csv to table 'end_inventory' (224489 rows)\n",
      "✓ Successfully transferred purchases.csv to table 'purchases' (2372474 rows)\n",
      "✓ Successfully transferred purchase_prices.csv to table 'purchase_prices' (12261 rows)\n",
      "✓ Successfully transferred sales.csv to table 'sales' (12825363 rows)\n",
      "✓ Successfully transferred vendor_invoice.csv to table 'vendor_invoice' (5543 rows)\n",
      "\n",
      "Database transfer completed!\n"
     ]
    }
   ],
   "source": [
    "# Process each CSV file\n",
    "for file in csv_files:\n",
    "    try:\n",
    "        # Read CSV file\n",
    "        file_path = os.path.join(data_directory, file)\n",
    "        df = pd.read_csv(file_path)\n",
    "        \n",
    "        # Create table name from filename (remove .csv extension)\n",
    "        table_name = file.replace('.csv', '')\n",
    "        \n",
    "        # Transfer to SQLite database\n",
    "        df.to_sql(table_name, engine, if_exists='replace', index=False)\n",
    "        \n",
    "        print(f\"✓ Successfully transferred {file} to table '{table_name}' ({len(df)} rows)\")\n",
    "        \n",
    "    except Exception as e:\n",
    "        print(f\"✗ Error processing {file}: {str(e)}\")\n",
    "\n",
    "print(\"\\nDatabase transfer completed!\")"
   ]
  },
  {
   "cell_type": "code",
   "execution_count": 22,
   "id": "beb52728-2b94-4e0c-bbd4-c44ae529a165",
   "metadata": {},
   "outputs": [
    {
     "name": "stdout",
     "output_type": "stream",
     "text": [
      "\n",
      "Tables created in database:\n",
      "- begin_inventory: 206529 rows\n",
      "- end_inventory: 224489 rows\n",
      "- purchases: 2372474 rows\n",
      "- purchase_prices: 12261 rows\n",
      "- sales: 12825363 rows\n",
      "- vendor_invoice: 5543 rows\n",
      "\n",
      "Database saved as: inventory.db\n"
     ]
    }
   ],
   "source": [
    "# Verify the transfer by listing all tables\n",
    "print(\"\\nTables created in database:\")\n",
    "try:\n",
    "    tables = pd.read_sql(\"SELECT name FROM sqlite_master WHERE type='table';\", engine)\n",
    "    for table in tables['name']:\n",
    "        # Get row count for each table\n",
    "        count = pd.read_sql(f\"SELECT COUNT(*) as count FROM {table}\", engine)['count'][0]\n",
    "        print(f\"- {table}: {count} rows\")\n",
    "except Exception as e:\n",
    "    print(f\"Error verifying tables: {str(e)}\")\n",
    "\n",
    "print(f\"\\nDatabase saved as: inventory.db\")"
   ]
  },
  {
   "cell_type": "code",
   "execution_count": null,
   "id": "d2368359-011d-49a1-b68b-4ae27eaef483",
   "metadata": {},
   "outputs": [],
   "source": []
  }
 ],
 "metadata": {
  "kernelspec": {
   "display_name": "Python 3 (ipykernel)",
   "language": "python",
   "name": "python3"
  },
  "language_info": {
   "codemirror_mode": {
    "name": "ipython",
    "version": 3
   },
   "file_extension": ".py",
   "mimetype": "text/x-python",
   "name": "python",
   "nbconvert_exporter": "python",
   "pygments_lexer": "ipython3",
   "version": "3.11.1"
  }
 },
 "nbformat": 4,
 "nbformat_minor": 5
}
